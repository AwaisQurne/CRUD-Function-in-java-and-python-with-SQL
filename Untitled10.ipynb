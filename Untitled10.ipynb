{
 "cells": [
  {
   "cell_type": "code",
   "execution_count": 2,
   "id": "02b33dbd",
   "metadata": {},
   "outputs": [
    {
     "name": "stdout",
     "output_type": "stream",
     "text": [
      "Requirement already satisfied: pyodbc in f:\\anaconda\\lib\\site-packages (5.0.1)\n"
     ]
    }
   ],
   "source": [
    "!pip install pyodbc\n"
   ]
  },
  {
   "cell_type": "code",
   "execution_count": 5,
   "id": "04813078",
   "metadata": {},
   "outputs": [
    {
     "name": "stdout",
     "output_type": "stream",
     "text": [
      "User 'AWAIS' created successfully.\n",
      "ID: 2, Username: AWAIS, Active: Yes\n",
      "User ID '1' updated successfully.\n",
      "ID: 2, Username: AWAIS, Active: Yes\n",
      "User ID '1' deleted successfully.\n",
      "ID: 2, Username: AWAIS, Active: Yes\n"
     ]
    }
   ],
   "source": [
    "import pyodbc\n",
    "\n",
    "# Define connection details\n",
    "server = 'DESKTOP-I8QSSD4\\SQLEXPRESS01'  # Replace with your server name\n",
    "database = 'UserManagement'\n",
    "#username = 'YOUR_USERNAME'  # Replace with your SQL Server username\n",
    "#password = 'YOUR_PASSWORD'  # Replace with your SQL Server password\n",
    "\n",
    "# Create a connection to SQL Server\n",
    "conn = pyodbc.connect(\n",
    "    f'DRIVER={{SQL Server}};SERVER={server};DATABASE={database};'\n",
    ")\n",
    "cursor = conn.cursor()\n",
    "\n",
    "# CREATE function\n",
    "def create_user(username, password, active=1):\n",
    "    try:\n",
    "        cursor.execute(\"INSERT INTO Users (Username, Password, Active) VALUES (?, ?, ?)\", (username, password, active))\n",
    "        conn.commit()\n",
    "        print(f\"User '{username}' created successfully.\")\n",
    "    except pyodbc.IntegrityError:\n",
    "        print(f\"Error: User '{username}' already exists.\")\n",
    "\n",
    "# READ function\n",
    "def get_all_users():\n",
    "    cursor.execute(\"SELECT ID, Username, Active FROM Users\")\n",
    "    users = cursor.fetchall()\n",
    "    for user in users:\n",
    "        print(f\"ID: {user.ID}, Username: {user.Username}, Active: {'Yes' if user.Active else 'No'}\")\n",
    "\n",
    "# UPDATE function\n",
    "def update_user(user_id, new_password=None, new_active=None):\n",
    "    if new_password:\n",
    "        cursor.execute(\"UPDATE Users SET Password = ? WHERE ID = ?\", (new_password, user_id))\n",
    "    if new_active is not None:\n",
    "        cursor.execute(\"UPDATE Users SET Active = ? WHERE ID = ?\", (new_active, user_id))\n",
    "    conn.commit()\n",
    "    print(f\"User ID '{user_id}' updated successfully.\")\n",
    "\n",
    "# DELETE function\n",
    "def delete_user(user_id):\n",
    "    cursor.execute(\"DELETE FROM Users WHERE ID = ?\", (user_id,))\n",
    "    conn.commit()\n",
    "    print(f\"User ID '{user_id}' deleted successfully.\")\n",
    "\n",
    "# Example Usage\n",
    "create_user(\"AWAIS\", \"password123\")  # Creates a new user\n",
    "get_all_users()  # Reads and prints all users\n",
    "\n",
    "update_user(1, new_password=\"newpassword123\", new_active=0)  # Updates user with ID 1\n",
    "get_all_users()  # Reads and prints all users\n",
    "\n",
    "delete_user(1)  # Deletes user with ID 1\n",
    "get_all_users()  # Reads and prints all users\n",
    "\n",
    "# Close the connection when done\n",
    "conn.close()\n"
   ]
  },
  {
   "cell_type": "code",
   "execution_count": null,
   "id": "9c1d91f3",
   "metadata": {},
   "outputs": [],
   "source": []
  }
 ],
 "metadata": {
  "kernelspec": {
   "display_name": "Python 3 (ipykernel)",
   "language": "python",
   "name": "python3"
  },
  "language_info": {
   "codemirror_mode": {
    "name": "ipython",
    "version": 3
   },
   "file_extension": ".py",
   "mimetype": "text/x-python",
   "name": "python",
   "nbconvert_exporter": "python",
   "pygments_lexer": "ipython3",
   "version": "3.11.7"
  }
 },
 "nbformat": 4,
 "nbformat_minor": 5
}
